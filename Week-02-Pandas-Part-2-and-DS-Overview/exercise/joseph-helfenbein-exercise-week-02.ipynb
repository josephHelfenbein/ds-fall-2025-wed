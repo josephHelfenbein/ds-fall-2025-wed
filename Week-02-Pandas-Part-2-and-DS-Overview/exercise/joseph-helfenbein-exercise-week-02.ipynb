{
 "cells": [
  {
   "cell_type": "markdown",
   "metadata": {},
   "source": [
    "# Fall 2024 Data Science Track: Week 2 - Data Cleaning Exercise"
   ]
  },
  {
   "cell_type": "markdown",
   "metadata": {},
   "source": [
    "## Packages, Packages, Packages!\n",
    "\n",
    "Import *all* the things here! You need the standard stuff: `pandas` and `numpy`.\n",
    "\n",
    "If you got more stuff you want to use, add them here too. 🙂"
   ]
  },
  {
   "cell_type": "code",
   "execution_count": 2,
   "metadata": {},
   "outputs": [],
   "source": [
    "# Import here.\n",
    "\n",
    "import pandas as pd\n",
    "import numpy as np"
   ]
  },
  {
   "cell_type": "markdown",
   "metadata": {},
   "source": [
    "## Introduction\n",
    "\n",
    "With the packages out of the way, now you will be working with the following data sets:\n",
    "\n",
    "* `food_coded.csv`: [Food choices](https://www.kaggle.com/datasets/borapajo/food-choices?select=food_coded.csv) from Kaggle\n",
    "* `Ask A Manager Salary Survey 2021 (Responses) - Form Responses 1.tsv`: [Ask A Manager Salary Survey 2021 (Responses)](https://docs.google.com/spreadsheets/d/1IPS5dBSGtwYVbjsfbaMCYIWnOuRmJcbequohNxCyGVw/view?&gid=1625408792) as *Tab Separated Values (.tsv)* from Google Docs\n",
    "\n",
    "Each one poses different challenges. But you’ll―of course―overcome them with what you learned in class! 😉"
   ]
  },
  {
   "cell_type": "markdown",
   "metadata": {},
   "source": [
    "## Food Choices Data Set"
   ]
  },
  {
   "cell_type": "markdown",
   "metadata": {},
   "source": [
    "### Load the Data"
   ]
  },
  {
   "cell_type": "code",
   "execution_count": 29,
   "metadata": {},
   "outputs": [],
   "source": [
    "# Load the Food choices data set into a variable (e.g., df_food).\n",
    "\n",
    "food_data_set_path = '../data/food_coded.csv'\n",
    "\n",
    "df_food = pd.read_csv(food_data_set_path)"
   ]
  },
  {
   "cell_type": "markdown",
   "metadata": {},
   "source": [
    "### Explore the Data"
   ]
  },
  {
   "cell_type": "markdown",
   "metadata": {},
   "source": [
    "How much data did you just load?"
   ]
  },
  {
   "cell_type": "code",
   "execution_count": 30,
   "metadata": {},
   "outputs": [
    {
     "name": "stdout",
     "output_type": "stream",
     "text": [
      "The data set has 125 rows.\n"
     ]
    }
   ],
   "source": [
    "# Count by hand. (lol kidding)\n",
    "\n",
    "data_amount = df_food.shape[0]\n",
    "print(f'The data set has {data_amount} rows.')"
   ]
  },
  {
   "cell_type": "markdown",
   "metadata": {},
   "source": [
    "What are the columns and their types in this data set?"
   ]
  },
  {
   "cell_type": "code",
   "execution_count": 31,
   "metadata": {},
   "outputs": [
    {
     "name": "stdout",
     "output_type": "stream",
     "text": [
      "The data set has 61 columns.\n",
      "GPA                  object\n",
      "Gender                int64\n",
      "breakfast             int64\n",
      "calories_chicken      int64\n",
      "calories_day        float64\n",
      "                     ...   \n",
      "type_sports          object\n",
      "veggies_day           int64\n",
      "vitamins              int64\n",
      "waffle_calories       int64\n",
      "weight               object\n",
      "Length: 61, dtype: object\n"
     ]
    }
   ],
   "source": [
    "# Show the column names and their types.\n",
    "\n",
    "data_cols = df_food.dtypes\n",
    "data_cols_amount = df_food.shape[1]\n",
    "print(f'The data set has {data_cols_amount} columns.')\n",
    "print(data_cols)"
   ]
  },
  {
   "cell_type": "markdown",
   "metadata": {},
   "source": [
    "### Clean the Data\n",
    "\n",
    "Perhaps we’d like to know more another day, but the team is really interested in just the relationship between calories (`calories_day`) and weight. …and maybe gender."
   ]
  },
  {
   "cell_type": "markdown",
   "metadata": {},
   "source": [
    "Can you remove the other columns?"
   ]
  },
  {
   "cell_type": "code",
   "execution_count": 34,
   "metadata": {},
   "outputs": [
    {
     "name": "stdout",
     "output_type": "stream",
     "text": [
      "     Gender  calories_day                    weight\n",
      "0         2           NaN                       187\n",
      "1         1           3.0                       155\n",
      "2         1           4.0  I'm not answering this. \n",
      "3         1           3.0             Not sure, 240\n",
      "4         1           2.0                       190\n",
      "..      ...           ...                       ...\n",
      "120       1           4.0                       156\n",
      "121       1           2.0                       180\n",
      "122       1           NaN                       120\n",
      "123       2           4.0                       135\n",
      "124       1           NaN                       135\n",
      "\n",
      "[125 rows x 3 columns]\n"
     ]
    }
   ],
   "source": [
    "# Remove ‘em.\n",
    "df_food.drop(df_food.columns.difference(['calories_day', 'weight', 'Gender']), axis=1, inplace=True)\n",
    "print(df_food)"
   ]
  },
  {
   "cell_type": "markdown",
   "metadata": {},
   "source": [
    "What about `NaN`s? How many are there?"
   ]
  },
  {
   "cell_type": "code",
   "execution_count": 41,
   "metadata": {},
   "outputs": [
    {
     "name": "stdout",
     "output_type": "stream",
     "text": [
      "The data set has 21 NaN values.\n"
     ]
    }
   ],
   "source": [
    "# Count ‘em.\n",
    "\n",
    "nanamount = df_food.isna().sum().sum()\n",
    "print(f'The data set has {nanamount} NaN values.')"
   ]
  },
  {
   "cell_type": "markdown",
   "metadata": {},
   "source": [
    "We gotta remove those `NaN`s―the entire row."
   ]
  },
  {
   "cell_type": "code",
   "execution_count": 42,
   "metadata": {},
   "outputs": [
    {
     "name": "stdout",
     "output_type": "stream",
     "text": [
      "     Gender  calories_day                    weight\n",
      "1         1           3.0                       155\n",
      "2         1           4.0  I'm not answering this. \n",
      "3         1           3.0             Not sure, 240\n",
      "4         1           2.0                       190\n",
      "5         1           3.0                       190\n",
      "..      ...           ...                       ...\n",
      "118       1           3.0                       140\n",
      "119       2           3.0                       185\n",
      "120       1           4.0                       156\n",
      "121       1           2.0                       180\n",
      "123       2           4.0                       135\n",
      "\n",
      "[104 rows x 3 columns]\n"
     ]
    }
   ],
   "source": [
    "# Drop ‘em.\n",
    "\n",
    "df_food.dropna(inplace=True)\n",
    "print(df_food)"
   ]
  },
  {
   "cell_type": "markdown",
   "metadata": {},
   "source": [
    "But what about the weird non-numeric values in the column obviously meant for numeric data?\n",
    "\n",
    "Notice the data type of that column from when you got the types of all the columns?\n",
    "\n",
    "If only we could convert the column to a numeric type and drop the rows with invalid values. 🤔"
   ]
  },
  {
   "cell_type": "code",
   "execution_count": 54,
   "metadata": {},
   "outputs": [
    {
     "name": "stdout",
     "output_type": "stream",
     "text": [
      "     Gender  calories_day weight\n",
      "1         1           3.0    155\n",
      "4         1           2.0    190\n",
      "5         1           3.0    190\n",
      "6         2           3.0    180\n",
      "7         1           3.0    137\n",
      "..      ...           ...    ...\n",
      "118       1           3.0    140\n",
      "119       2           3.0    185\n",
      "120       1           4.0    156\n",
      "121       1           2.0    180\n",
      "123       2           4.0    135\n",
      "\n",
      "[101 rows x 3 columns]\n"
     ]
    }
   ],
   "source": [
    "# Fix that.\n",
    "\n",
    "df_food = df_food[pd.to_numeric(df_food.weight, errors='coerce').notnull()]\n",
    "print(df_food)"
   ]
  },
  {
   "cell_type": "markdown",
   "metadata": {},
   "source": [
    "Now this data seems reasonably clean for our purposes! 😁\n",
    "\n",
    "Let’s save it somewhere to be shipped off to another teammate. 💾"
   ]
  },
  {
   "cell_type": "code",
   "execution_count": 55,
   "metadata": {},
   "outputs": [],
   "source": [
    "# Savey save!\n",
    "\n",
    "df_food.to_csv('cleaned_food_data.csv', index=False)"
   ]
  },
  {
   "cell_type": "markdown",
   "metadata": {},
   "source": [
    "## Ask a Manager Salary Survey 2021 (Responses) Data Set"
   ]
  },
  {
   "cell_type": "markdown",
   "metadata": {},
   "source": [
    "### Load the Data"
   ]
  },
  {
   "cell_type": "code",
   "execution_count": 59,
   "metadata": {},
   "outputs": [
    {
     "name": "stdout",
     "output_type": "stream",
     "text": [
      "                Timestamp How old are you?  What industry do you work in?  \\\n",
      "0      4/27/2021 11:02:10            25-34   Education (Higher Education)   \n",
      "1      4/27/2021 11:02:22            25-34              Computing or Tech   \n",
      "2      4/27/2021 11:02:38            25-34  Accounting, Banking & Finance   \n",
      "3      4/27/2021 11:02:41            25-34                     Nonprofits   \n",
      "4      4/27/2021 11:02:42            25-34  Accounting, Banking & Finance   \n",
      "...                   ...              ...                            ...   \n",
      "28057  7/12/2024 22:52:01            35-44                    Health care   \n",
      "28058  7/23/2024 17:51:03            25-34              Computing or Tech   \n",
      "28059  7/24/2024 12:22:58            18-24  Accounting, Banking & Finance   \n",
      "28060  7/26/2024 11:20:45            18-24              Computing or Tech   \n",
      "28061   8/20/2024 1:06:13            25-34                    Health care   \n",
      "\n",
      "                                      Job title  \\\n",
      "0            Research and Instruction Librarian   \n",
      "1      Change & Internal Communications Manager   \n",
      "2                          Marketing Specialist   \n",
      "3                               Program Manager   \n",
      "4                            Accounting Manager   \n",
      "...                                         ...   \n",
      "28057                              Veterinarian   \n",
      "28058                         Systems Architect   \n",
      "28059                 Risk Management Associate   \n",
      "28060                                        IT   \n",
      "28061                    Clinical physiologist    \n",
      "\n",
      "      If your job title needs additional context, please clarify here:  \\\n",
      "0                                                    NaN                 \n",
      "1                                                    NaN                 \n",
      "2                                                    NaN                 \n",
      "3                                                    NaN                 \n",
      "4                                                    NaN                 \n",
      "...                                                  ...                 \n",
      "28057                                                NaN                 \n",
      "28058                                                NaN                 \n",
      "28059                                                NaN                 \n",
      "28060                                                NaN                 \n",
      "28061                                                NaN                 \n",
      "\n",
      "      What is your annual salary? (You'll indicate the currency in a later question. If you are part-time or hourly, please enter an annualized equivalent -- what you would earn if you worked the job 40 hours a week, 52 weeks a year.)  \\\n",
      "0                                                 55,000                                                                                                                                                                                     \n",
      "1                                                 54,600                                                                                                                                                                                     \n",
      "2                                                 34,000                                                                                                                                                                                     \n",
      "3                                                 62,000                                                                                                                                                                                     \n",
      "4                                                 60,000                                                                                                                                                                                     \n",
      "...                                                  ...                                                                                                                                                                                     \n",
      "28057                                             135000                                                                                                                                                                                     \n",
      "28058                                             109000                                                                                                                                                                                     \n",
      "28059                                               1200                                                                                                                                                                                     \n",
      "28060                                               1700                                                                                                                                                                                     \n",
      "28061                                            1200000                                                                                                                                                                                     \n",
      "\n",
      "       How much additional monetary compensation do you get, if any (for example, bonuses or overtime in an average year)? Please only include monetary compensation here, not the value of benefits.  \\\n",
      "0                                                    0.0                                                                                                                                                \n",
      "1                                                 4000.0                                                                                                                                                \n",
      "2                                                    NaN                                                                                                                                                \n",
      "3                                                 3000.0                                                                                                                                                \n",
      "4                                                 7000.0                                                                                                                                                \n",
      "...                                                  ...                                                                                                                                                \n",
      "28057                                                NaN                                                                                                                                                \n",
      "28058                                                NaN                                                                                                                                                \n",
      "28059                                                0.0                                                                                                                                                \n",
      "28060                                               10.0                                                                                                                                                \n",
      "28061                                                NaN                                                                                                                                                \n",
      "\n",
      "      Please indicate the currency  \\\n",
      "0                              USD   \n",
      "1                              GBP   \n",
      "2                              USD   \n",
      "3                              USD   \n",
      "4                              USD   \n",
      "...                            ...   \n",
      "28057                          USD   \n",
      "28058                          USD   \n",
      "28059                          USD   \n",
      "28060                          USD   \n",
      "28061                        Other   \n",
      "\n",
      "      If \"Other,\" please indicate the currency here:   \\\n",
      "0                                                 NaN   \n",
      "1                                                 NaN   \n",
      "2                                                 NaN   \n",
      "3                                                 NaN   \n",
      "4                                                 NaN   \n",
      "...                                               ...   \n",
      "28057                                             NaN   \n",
      "28058                                             NaN   \n",
      "28059                                             NaN   \n",
      "28060                                             NaN   \n",
      "28061                                             NGN   \n",
      "\n",
      "      If your income needs additional context, please provide it here:  \\\n",
      "0                                                    NaN                 \n",
      "1                                                    NaN                 \n",
      "2                                                    NaN                 \n",
      "3                                                    NaN                 \n",
      "4                                                    NaN                 \n",
      "...                                                  ...                 \n",
      "28057                                                NaN                 \n",
      "28058                                                NaN                 \n",
      "28059                                                NaN                 \n",
      "28060                                                NaN                 \n",
      "28061                                                NaN                 \n",
      "\n",
      "      What country do you work in?  \\\n",
      "0                    United States   \n",
      "1                   United Kingdom   \n",
      "2                               US   \n",
      "3                              USA   \n",
      "4                               US   \n",
      "...                            ...   \n",
      "28057               United States    \n",
      "28058                          USA   \n",
      "28059                      Myanmar   \n",
      "28060                        Burma   \n",
      "28061                     Nigeria    \n",
      "\n",
      "      If you're in the U.S., what state do you work in?  \\\n",
      "0                                         Massachusetts   \n",
      "1                                                   NaN   \n",
      "2                                             Tennessee   \n",
      "3                                             Wisconsin   \n",
      "4                                        South Carolina   \n",
      "...                                                 ...   \n",
      "28057                                          Missouri   \n",
      "28058                                           Georgia   \n",
      "28059                                          Colorado   \n",
      "28060                                               NaN   \n",
      "28061                                               NaN   \n",
      "\n",
      "      What city do you work in?  \\\n",
      "0                        Boston   \n",
      "1                     Cambridge   \n",
      "2                   Chattanooga   \n",
      "3                     Milwaukee   \n",
      "4                    Greenville   \n",
      "...                         ...   \n",
      "28057               Wentzville    \n",
      "28058                   Atlanta   \n",
      "28059                    Yangon   \n",
      "28060                    Yangon   \n",
      "28061                     Lagos   \n",
      "\n",
      "      How many years of professional work experience do you have overall?  \\\n",
      "0                                              5-7 years                    \n",
      "1                                           8 - 10 years                    \n",
      "2                                            2 - 4 years                    \n",
      "3                                           8 - 10 years                    \n",
      "4                                           8 - 10 years                    \n",
      "...                                                  ...                    \n",
      "28057                                      11 - 20 years                    \n",
      "28058                                          5-7 years                    \n",
      "28059                                        2 - 4 years                    \n",
      "28060                                        2 - 4 years                    \n",
      "28061                                        2 - 4 years                    \n",
      "\n",
      "      How many years of professional work experience do you have in your field?  \\\n",
      "0                                              5-7 years                          \n",
      "1                                              5-7 years                          \n",
      "2                                            2 - 4 years                          \n",
      "3                                              5-7 years                          \n",
      "4                                              5-7 years                          \n",
      "...                                                  ...                          \n",
      "28057                                      11 - 20 years                          \n",
      "28058                                          5-7 years                          \n",
      "28059                                        2 - 4 years                          \n",
      "28060                                     1 year or less                          \n",
      "28061                                        2 - 4 years                          \n",
      "\n",
      "      What is your highest level of education completed? What is your gender?  \\\n",
      "0                                        Master's degree                Woman   \n",
      "1                                         College degree           Non-binary   \n",
      "2                                         College degree                Woman   \n",
      "3                                         College degree                Woman   \n",
      "4                                         College degree                Woman   \n",
      "...                                                  ...                  ...   \n",
      "28057                 Professional degree (MD, JD, etc.)                Woman   \n",
      "28058                                     College degree                  Man   \n",
      "28059                                       Some college                  Man   \n",
      "28060                                       Some college                  Man   \n",
      "28061                                     College degree                Woman   \n",
      "\n",
      "      What is your race? (Choose all that apply.)  \n",
      "0                                           White  \n",
      "1                                           White  \n",
      "2                                           White  \n",
      "3                                           White  \n",
      "4                                           White  \n",
      "...                                           ...  \n",
      "28057                                       White  \n",
      "28058                                       White  \n",
      "28059                     Asian or Asian American  \n",
      "28060                     Asian or Asian American  \n",
      "28061                   Black or African American  \n",
      "\n",
      "[28062 rows x 18 columns]\n"
     ]
    }
   ],
   "source": [
    "# Load the Ask A Manager Salary Survey 2021 (Responses) data set into a variable (e.g., df_salary).\n",
    "\n",
    "df_salary = pd.read_csv('../data/Ask A Manager Salary Survey 2021 (Responses) - Form Responses 1.tsv', sep='\\t')\n",
    "print(df_salary)\n",
    "df_salary.to_csv('ask_a_manager_salary_survey_2021.csv', index=False)"
   ]
  },
  {
   "cell_type": "markdown",
   "metadata": {},
   "source": [
    "Was that hard? 🙃"
   ]
  },
  {
   "cell_type": "markdown",
   "metadata": {},
   "source": [
    "#### rename the file to something that is better for all systems.  \n",
    "* No spaces in filename (can use '_')\n",
    "* all lower case"
   ]
  },
  {
   "cell_type": "markdown",
   "metadata": {},
   "source": [
    "### Explore\n",
    "\n",
    "You know the drill."
   ]
  },
  {
   "cell_type": "markdown",
   "metadata": {},
   "source": [
    "How much data did you just load?"
   ]
  },
  {
   "cell_type": "code",
   "execution_count": null,
   "metadata": {},
   "outputs": [
    {
     "name": "stdout",
     "output_type": "stream",
     "text": [
      "The data set has 28062 rows.\n"
     ]
    }
   ],
   "source": [
    "# Count by hand. I’m dead serious.\n",
    "\n",
    "print(f'The data set has {df_salary.shape[0]} rows.')"
   ]
  },
  {
   "cell_type": "markdown",
   "metadata": {},
   "source": [
    "What are the columns and their types?"
   ]
  },
  {
   "cell_type": "code",
   "execution_count": 61,
   "metadata": {},
   "outputs": [
    {
     "name": "stdout",
     "output_type": "stream",
     "text": [
      "The data set has 18 columns.\n",
      "Timestamp                                                                                                                                                                                                                                object\n",
      "How old are you?                                                                                                                                                                                                                         object\n",
      "What industry do you work in?                                                                                                                                                                                                            object\n",
      "Job title                                                                                                                                                                                                                                object\n",
      "If your job title needs additional context, please clarify here:                                                                                                                                                                         object\n",
      "What is your annual salary? (You'll indicate the currency in a later question. If you are part-time or hourly, please enter an annualized equivalent -- what you would earn if you worked the job 40 hours a week, 52 weeks a year.)     object\n",
      "How much additional monetary compensation do you get, if any (for example, bonuses or overtime in an average year)? Please only include monetary compensation here, not the value of benefits.                                          float64\n",
      "Please indicate the currency                                                                                                                                                                                                             object\n",
      "If \"Other,\" please indicate the currency here:                                                                                                                                                                                           object\n",
      "If your income needs additional context, please provide it here:                                                                                                                                                                         object\n",
      "What country do you work in?                                                                                                                                                                                                             object\n",
      "If you're in the U.S., what state do you work in?                                                                                                                                                                                        object\n",
      "What city do you work in?                                                                                                                                                                                                                object\n",
      "How many years of professional work experience do you have overall?                                                                                                                                                                      object\n",
      "How many years of professional work experience do you have in your field?                                                                                                                                                                object\n",
      "What is your highest level of education completed?                                                                                                                                                                                       object\n",
      "What is your gender?                                                                                                                                                                                                                     object\n",
      "What is your race? (Choose all that apply.)                                                                                                                                                                                              object\n",
      "dtype: object\n"
     ]
    }
   ],
   "source": [
    "# Show the column names and their types.\n",
    "\n",
    "print(f'The data set has {df_salary.shape[1]} columns.')\n",
    "print(df_salary.dtypes)"
   ]
  },
  {
   "cell_type": "markdown",
   "metadata": {},
   "source": [
    "Oh… Ugh! Give these columns easier names to work with first. 🙄"
   ]
  },
  {
   "cell_type": "code",
   "execution_count": 65,
   "metadata": {},
   "outputs": [
    {
     "name": "stdout",
     "output_type": "stream",
     "text": [
      "Index(['timestamp', 'age', 'industry', 'title', 'title_context', 'salary',\n",
      "       'additional_compensation', 'currency', 'other_currency',\n",
      "       'salary_context', 'country', 'state', 'city', 'total_yoe', 'field_yoe',\n",
      "       'highest_education_completed', 'gender', 'race'],\n",
      "      dtype='object')\n"
     ]
    }
   ],
   "source": [
    "# Rename ‘em.\n",
    "# Non-binding suggestions: timestamp, age, industry, title, title_context, salary, additional_compensation, currency, other_currency, salary_context, country, state, city, total_yoe, field_yoe, highest_education_completed\tgender, race\n",
    "\n",
    "df_salary.rename(columns={\n",
    "    'Timestamp': 'timestamp',\n",
    "    'How old are you?': 'age',\n",
    "    'What industry do you work in?': 'industry',\n",
    "    'Job title': 'title',\n",
    "    'If your job title needs additional context, please clarify here:': 'title_context',\n",
    "    'What is your annual salary? (You\\'ll indicate the currency in a later question. If you are part-time or hourly, please enter an annualized equivalent -- what you would earn if you worked the job 40 hours a week, 52 weeks a year.)': 'salary',\n",
    "    'How much additional monetary compensation do you get, if any (for example, bonuses or overtime in an average year)? Please only include monetary compensation here, not the value of benefits.': 'additional_compensation',\n",
    "    'Please indicate the currency': 'currency',\n",
    "    'If \"Other,\" please indicate the currency here: ': 'other_currency',\n",
    "    'If your income needs additional context, please provide it here:': 'salary_context',\n",
    "    'What country do you work in?': 'country',\n",
    "    'If you\\'re in the U.S., what state do you work in?': 'state',\n",
    "    'What city do you work in?': 'city',\n",
    "    'How many years of professional work experience do you have overall?': 'total_yoe',\n",
    "    'How many years of professional work experience do you have in your field?': 'field_yoe',\n",
    "    'What is your highest level of education completed?': 'highest_education_completed',\n",
    "    'What is your gender?': 'gender',\n",
    "    'What is your race? (Choose all that apply.)': 'race',\n",
    "}, inplace=True)\n",
    "print(df_salary.columns)\n"
   ]
  },
  {
   "cell_type": "markdown",
   "metadata": {},
   "source": [
    "It’s a lot, and that should not have been easy. 😏"
   ]
  },
  {
   "cell_type": "markdown",
   "metadata": {},
   "source": [
    "You’re going to have a gander at the computing/tech subset first because thats *your* industry. But first, what value corresponds to that `industry`?"
   ]
  },
  {
   "cell_type": "code",
   "execution_count": 66,
   "metadata": {},
   "outputs": [
    {
     "name": "stdout",
     "output_type": "stream",
     "text": [
      "industry\n",
      "Computing or Tech                       4699\n",
      "Education (Higher Education)            2464\n",
      "Nonprofits                              2419\n",
      "Health care                             1896\n",
      "Government and Public Administration    1889\n",
      "                                        ... \n",
      "e-commerce                                 1\n",
      "Graduate Student                           1\n",
      "Obligatory Military service                1\n",
      "Landscape Architecture                     1\n",
      "Edtech                                     1\n",
      "Name: count, Length: 1219, dtype: int64\n"
     ]
    }
   ],
   "source": [
    "# List the unique industries and a count of their instances.\n",
    "\n",
    "unique_industries = df_salary['industry'].value_counts()\n",
    "print(unique_industries)"
   ]
  },
  {
   "cell_type": "markdown",
   "metadata": {},
   "source": [
    "That value among the top 5 is what you’re looking for innit? Filter out all the rows not in that industry and save it into a new dataframe. "
   ]
  },
  {
   "cell_type": "code",
   "execution_count": 69,
   "metadata": {},
   "outputs": [
    {
     "name": "stdout",
     "output_type": "stream",
     "text": [
      "                timestamp    age                      industry  \\\n",
      "0      4/27/2021 11:02:10  25-34  Education (Higher Education)   \n",
      "1      4/27/2021 11:02:22  25-34             Computing or Tech   \n",
      "3      4/27/2021 11:02:41  25-34                    Nonprofits   \n",
      "5      4/27/2021 11:02:46  25-34  Education (Higher Education)   \n",
      "8      4/27/2021 11:03:01  45-54             Computing or Tech   \n",
      "...                   ...    ...                           ...   \n",
      "28053  7/12/2024 18:23:10  18-24                    Nonprofits   \n",
      "28057  7/12/2024 22:52:01  35-44                   Health care   \n",
      "28058  7/23/2024 17:51:03  25-34             Computing or Tech   \n",
      "28060  7/26/2024 11:20:45  18-24             Computing or Tech   \n",
      "28061   8/20/2024 1:06:13  25-34                   Health care   \n",
      "\n",
      "                                          title                 title_context  \\\n",
      "0            Research and Instruction Librarian                           NaN   \n",
      "1      Change & Internal Communications Manager                           NaN   \n",
      "3                               Program Manager                           NaN   \n",
      "5                Scholarly Publishing Librarian                           NaN   \n",
      "8                               Systems Analyst  Data developer/ETL Developer   \n",
      "...                                         ...                           ...   \n",
      "28053                  Adminstration Specialist                           NaN   \n",
      "28057                              Veterinarian                           NaN   \n",
      "28058                         Systems Architect                           NaN   \n",
      "28060                                        IT                           NaN   \n",
      "28061                    Clinical physiologist                            NaN   \n",
      "\n",
      "        salary  additional_compensation currency other_currency  \\\n",
      "0       55,000                      0.0      USD            NaN   \n",
      "1       54,600                   4000.0      GBP            NaN   \n",
      "3       62,000                   3000.0      USD            NaN   \n",
      "5       62,000                      NaN      USD            NaN   \n",
      "8      112,000                  10000.0      USD            NaN   \n",
      "...        ...                      ...      ...            ...   \n",
      "28053     1641                      NaN      CAD            NaN   \n",
      "28057   135000                      NaN      USD            NaN   \n",
      "28058   109000                      NaN      USD            NaN   \n",
      "28060     1700                     10.0      USD            NaN   \n",
      "28061  1200000                      NaN    Other            NGN   \n",
      "\n",
      "      salary_context         country          state         city  \\\n",
      "0                NaN   United States  Massachusetts       Boston   \n",
      "1                NaN  United Kingdom            NaN    Cambridge   \n",
      "3                NaN             USA      Wisconsin    Milwaukee   \n",
      "5                NaN             USA  New Hampshire      Hanover   \n",
      "8                NaN              US       Missouri    St. Louis   \n",
      "...              ...             ...            ...          ...   \n",
      "28053            NaN          Taiwan            NaN       Taipei   \n",
      "28057            NaN  United States        Missouri  Wentzville    \n",
      "28058            NaN             USA        Georgia      Atlanta   \n",
      "28060            NaN           Burma            NaN       Yangon   \n",
      "28061            NaN        Nigeria             NaN        Lagos   \n",
      "\n",
      "            total_yoe       field_yoe         highest_education_completed  \\\n",
      "0           5-7 years       5-7 years                     Master's degree   \n",
      "1        8 - 10 years       5-7 years                      College degree   \n",
      "3        8 - 10 years       5-7 years                      College degree   \n",
      "5        8 - 10 years     2 - 4 years                     Master's degree   \n",
      "8       21 - 30 years   21 - 30 years                      College degree   \n",
      "...               ...             ...                                 ...   \n",
      "28053  1 year or less  1 year or less                                 NaN   \n",
      "28057   11 - 20 years   11 - 20 years  Professional degree (MD, JD, etc.)   \n",
      "28058       5-7 years       5-7 years                      College degree   \n",
      "28060     2 - 4 years  1 year or less                        Some college   \n",
      "28061     2 - 4 years     2 - 4 years                      College degree   \n",
      "\n",
      "           gender                       race  \n",
      "0           Woman                      White  \n",
      "1      Non-binary                      White  \n",
      "3           Woman                      White  \n",
      "5             Man                      White  \n",
      "8           Woman                      White  \n",
      "...           ...                        ...  \n",
      "28053         Man    Asian or Asian American  \n",
      "28057       Woman                      White  \n",
      "28058         Man                      White  \n",
      "28060         Man    Asian or Asian American  \n",
      "28061       Woman  Black or African American  \n",
      "\n",
      "[13367 rows x 18 columns]\n"
     ]
    }
   ],
   "source": [
    "# Filtery filter. (Save it to a new variable, df_salary_tech.)\n",
    "\n",
    "top_5_industries = unique_industries.head(5).index.tolist()\n",
    "df_salary_tech = df_salary[df_salary['industry'].isin(top_5_industries)]\n",
    "print(df_salary_tech)"
   ]
  },
  {
   "cell_type": "markdown",
   "metadata": {},
   "source": [
    "Do a sanity check to make sure that the only values you kept are the one you are filtered for.  "
   ]
  },
  {
   "cell_type": "code",
   "execution_count": 70,
   "metadata": {},
   "outputs": [
    {
     "name": "stdout",
     "output_type": "stream",
     "text": [
      "industry\n",
      "Computing or Tech                       4699\n",
      "Education (Higher Education)            2464\n",
      "Nonprofits                              2419\n",
      "Health care                             1896\n",
      "Government and Public Administration    1889\n",
      "Name: count, dtype: int64\n"
     ]
    }
   ],
   "source": [
    "# Sanity Check \n",
    "\n",
    "print(df_salary_tech['industry'].value_counts())\n"
   ]
  },
  {
   "cell_type": "markdown",
   "metadata": {},
   "source": [
    "We are very interested in salary figures. But how many dollars 💵 is a euro 💶 or a pound 💷? That sounds like a problem for another day. 🫠\n",
    "\n",
    "For now, let’s just look at U.S. dollars (`'USD'`)."
   ]
  },
  {
   "cell_type": "code",
   "execution_count": 71,
   "metadata": {},
   "outputs": [],
   "source": [
    "# Filtery filter for just the jobs that pay in USD!\n",
    "\n",
    "df_salary_tech = df_salary_tech[df_salary_tech['currency'] == 'USD']"
   ]
  },
  {
   "cell_type": "markdown",
   "metadata": {},
   "source": [
    "What we really want know is how each U.S. city pays in tech. What value in `country` represents the United States of America?"
   ]
  },
  {
   "cell_type": "code",
   "execution_count": 72,
   "metadata": {},
   "outputs": [
    {
     "name": "stdout",
     "output_type": "stream",
     "text": [
      "country\n",
      "United States     4318\n",
      "USA               3813\n",
      "US                1252\n",
      "U.S.               292\n",
      "United States      255\n",
      "                  ... \n",
      "Nigeria              1\n",
      "ss                   1\n",
      "Nigeria              1\n",
      "Chile                1\n",
      "Burma                1\n",
      "Name: count, Length: 139, dtype: int64\n"
     ]
    }
   ],
   "source": [
    "# We did filter for USD, so if we do a count of each unique country in descending count order, the relevant value(s) should show up at the top.\n",
    "\n",
    "df_salary_tech['country'].value_counts()\n",
    "print(df_salary_tech['country'].value_counts())"
   ]
  },
  {
   "cell_type": "markdown",
   "metadata": {},
   "source": [
    "### Clean the Data\n",
    "\n",
    "Well, we can’t get our answers with what we currently have, so you’ll have to make some changes."
   ]
  },
  {
   "cell_type": "markdown",
   "metadata": {},
   "source": [
    "Let’s not worry about anything below the first 5 values for now. Convert the top 5 to a single canonical value―say, `'US'`, which is nice and short."
   ]
  },
  {
   "cell_type": "code",
   "execution_count": 76,
   "metadata": {},
   "outputs": [],
   "source": [
    "# Replace them all with 'US'.\n",
    "\n",
    "us_list = df_salary_tech['country'].value_counts().head(5).index.tolist()\n",
    "df_salary_tech.replace(us_list, 'US', inplace=True)"
   ]
  },
  {
   "cell_type": "markdown",
   "metadata": {},
   "source": [
    "Have a look at the count of each unique country again now."
   ]
  },
  {
   "cell_type": "code",
   "execution_count": 77,
   "metadata": {},
   "outputs": [
    {
     "name": "stdout",
     "output_type": "stream",
     "text": [
      "country\n",
      "US                           10789\n",
      "U.S.A.                          19\n",
      "United States of America        19\n",
      "U.S                             14\n",
      "US                              12\n",
      "                             ...  \n",
      "Nigeria                          1\n",
      "ss                               1\n",
      "Nigeria                          1\n",
      "Chile                            1\n",
      "Burma                            1\n",
      "Name: count, Length: 127, dtype: int64\n"
     ]
    }
   ],
   "source": [
    "# Count again.\n",
    "\n",
    "print(df_salary_tech['country'].value_counts())"
   ]
  },
  {
   "cell_type": "markdown",
   "metadata": {},
   "source": [
    "Did you notice anything interesting?"
   ]
  },
  {
   "cell_type": "code",
   "execution_count": null,
   "metadata": {},
   "outputs": [
    {
     "name": "stdout",
     "output_type": "stream",
     "text": [
      "country\n",
      "US                   11009\n",
      "The United States        2\n",
      "The US                   2\n",
      "Germany                  2\n",
      "Puerto Rico              2\n",
      "                     ...  \n",
      "Nigeria                  1\n",
      "ss                       1\n",
      "Nigeria                  1\n",
      "Chile                    1\n",
      "Burma                    1\n",
      "Name: count, Length: 68, dtype: int64\n"
     ]
    }
   ],
   "source": [
    "# BONUS CREDIT: resolve [most of] those anomalous cases too without exhaustively taking every variant literally into account.\n",
    "\n",
    "us_list = df_salary_tech['country'].value_counts().head(5).index.tolist()\n",
    "us_list = [x.lower() for x in us_list]\n",
    "us_list = [x.replace('.', '') for x in us_list]\n",
    "us_list.append('united states of america')\n",
    "def normalize_country(country):\n",
    "    return str(country).lower().replace('.', '').replace(' ', '')\n",
    "df_salary_tech['country'] = df_salary_tech['country'].apply(\n",
    "    lambda x: 'US' if normalize_country(x) in us_list else x\n",
    ")"
   ]
  },
  {
   "cell_type": "code",
   "execution_count": 91,
   "metadata": {},
   "outputs": [
    {
     "name": "stdout",
     "output_type": "stream",
     "text": [
      "country\n",
      "US                   11009\n",
      "The United States        2\n",
      "The US                   2\n",
      "Germany                  2\n",
      "Puerto Rico              2\n",
      "                     ...  \n",
      "Nigeria                  1\n",
      "ss                       1\n",
      "Nigeria                  1\n",
      "Chile                    1\n",
      "Burma                    1\n",
      "Name: count, Length: 68, dtype: int64\n"
     ]
    }
   ],
   "source": [
    "\n",
    "# BONUS CREDIT: if you’ve resolved it, let’s see how well you did by counting the number of instances of each unique value.\n",
    "\n",
    "print(df_salary_tech['country'].value_counts())"
   ]
  },
  {
   "cell_type": "markdown",
   "metadata": {},
   "source": [
    "It’s looking good so far. Let’s find out the minimum, mean, and maximum (in that order) salary by state, sorted by the mean in descending order."
   ]
  },
  {
   "cell_type": "code",
   "execution_count": 93,
   "metadata": {},
   "outputs": [
    {
     "ename": "TypeError",
     "evalue": "agg function failed [how->mean,dtype->object]",
     "output_type": "error",
     "traceback": [
      "\u001b[0;31m---------------------------------------------------------------------------\u001b[0m",
      "\u001b[0;31mTypeError\u001b[0m                                 Traceback (most recent call last)",
      "File \u001b[0;32m~/VSCodeProjects/ds-fall-2025-wed/.venv/lib/python3.10/site-packages/pandas/core/groupby/groupby.py:1943\u001b[0m, in \u001b[0;36mGroupBy._agg_py_fallback\u001b[0;34m(self, how, values, ndim, alt)\u001b[0m\n\u001b[1;32m   1942\u001b[0m \u001b[38;5;28;01mtry\u001b[39;00m:\n\u001b[0;32m-> 1943\u001b[0m     res_values \u001b[38;5;241m=\u001b[39m \u001b[38;5;28;43mself\u001b[39;49m\u001b[38;5;241;43m.\u001b[39;49m\u001b[43m_grouper\u001b[49m\u001b[38;5;241;43m.\u001b[39;49m\u001b[43magg_series\u001b[49m\u001b[43m(\u001b[49m\u001b[43mser\u001b[49m\u001b[43m,\u001b[49m\u001b[43m \u001b[49m\u001b[43malt\u001b[49m\u001b[43m,\u001b[49m\u001b[43m \u001b[49m\u001b[43mpreserve_dtype\u001b[49m\u001b[38;5;241;43m=\u001b[39;49m\u001b[38;5;28;43;01mTrue\u001b[39;49;00m\u001b[43m)\u001b[49m\n\u001b[1;32m   1944\u001b[0m \u001b[38;5;28;01mexcept\u001b[39;00m \u001b[38;5;167;01mException\u001b[39;00m \u001b[38;5;28;01mas\u001b[39;00m err:\n",
      "File \u001b[0;32m~/VSCodeProjects/ds-fall-2025-wed/.venv/lib/python3.10/site-packages/pandas/core/groupby/ops.py:864\u001b[0m, in \u001b[0;36mBaseGrouper.agg_series\u001b[0;34m(self, obj, func, preserve_dtype)\u001b[0m\n\u001b[1;32m    862\u001b[0m     preserve_dtype \u001b[38;5;241m=\u001b[39m \u001b[38;5;28;01mTrue\u001b[39;00m\n\u001b[0;32m--> 864\u001b[0m result \u001b[38;5;241m=\u001b[39m \u001b[38;5;28;43mself\u001b[39;49m\u001b[38;5;241;43m.\u001b[39;49m\u001b[43m_aggregate_series_pure_python\u001b[49m\u001b[43m(\u001b[49m\u001b[43mobj\u001b[49m\u001b[43m,\u001b[49m\u001b[43m \u001b[49m\u001b[43mfunc\u001b[49m\u001b[43m)\u001b[49m\n\u001b[1;32m    866\u001b[0m npvalues \u001b[38;5;241m=\u001b[39m lib\u001b[38;5;241m.\u001b[39mmaybe_convert_objects(result, try_float\u001b[38;5;241m=\u001b[39m\u001b[38;5;28;01mFalse\u001b[39;00m)\n",
      "File \u001b[0;32m~/VSCodeProjects/ds-fall-2025-wed/.venv/lib/python3.10/site-packages/pandas/core/groupby/ops.py:885\u001b[0m, in \u001b[0;36mBaseGrouper._aggregate_series_pure_python\u001b[0;34m(self, obj, func)\u001b[0m\n\u001b[1;32m    884\u001b[0m \u001b[38;5;28;01mfor\u001b[39;00m i, group \u001b[38;5;129;01min\u001b[39;00m \u001b[38;5;28menumerate\u001b[39m(splitter):\n\u001b[0;32m--> 885\u001b[0m     res \u001b[38;5;241m=\u001b[39m \u001b[43mfunc\u001b[49m\u001b[43m(\u001b[49m\u001b[43mgroup\u001b[49m\u001b[43m)\u001b[49m\n\u001b[1;32m    886\u001b[0m     res \u001b[38;5;241m=\u001b[39m extract_result(res)\n",
      "File \u001b[0;32m~/VSCodeProjects/ds-fall-2025-wed/.venv/lib/python3.10/site-packages/pandas/core/groupby/groupby.py:2460\u001b[0m, in \u001b[0;36mGroupBy.mean.<locals>.<lambda>\u001b[0;34m(x)\u001b[0m\n\u001b[1;32m   2457\u001b[0m \u001b[38;5;28;01melse\u001b[39;00m:\n\u001b[1;32m   2458\u001b[0m     result \u001b[38;5;241m=\u001b[39m \u001b[38;5;28mself\u001b[39m\u001b[38;5;241m.\u001b[39m_cython_agg_general(\n\u001b[1;32m   2459\u001b[0m         \u001b[38;5;124m\"\u001b[39m\u001b[38;5;124mmean\u001b[39m\u001b[38;5;124m\"\u001b[39m,\n\u001b[0;32m-> 2460\u001b[0m         alt\u001b[38;5;241m=\u001b[39m\u001b[38;5;28;01mlambda\u001b[39;00m x: \u001b[43mSeries\u001b[49m\u001b[43m(\u001b[49m\u001b[43mx\u001b[49m\u001b[43m,\u001b[49m\u001b[43m \u001b[49m\u001b[43mcopy\u001b[49m\u001b[38;5;241;43m=\u001b[39;49m\u001b[38;5;28;43;01mFalse\u001b[39;49;00m\u001b[43m)\u001b[49m\u001b[38;5;241;43m.\u001b[39;49m\u001b[43mmean\u001b[49m\u001b[43m(\u001b[49m\u001b[43mnumeric_only\u001b[49m\u001b[38;5;241;43m=\u001b[39;49m\u001b[43mnumeric_only\u001b[49m\u001b[43m)\u001b[49m,\n\u001b[1;32m   2461\u001b[0m         numeric_only\u001b[38;5;241m=\u001b[39mnumeric_only,\n\u001b[1;32m   2462\u001b[0m     )\n\u001b[1;32m   2463\u001b[0m     \u001b[38;5;28;01mreturn\u001b[39;00m result\u001b[38;5;241m.\u001b[39m__finalize__(\u001b[38;5;28mself\u001b[39m\u001b[38;5;241m.\u001b[39mobj, method\u001b[38;5;241m=\u001b[39m\u001b[38;5;124m\"\u001b[39m\u001b[38;5;124mgroupby\u001b[39m\u001b[38;5;124m\"\u001b[39m)\n",
      "File \u001b[0;32m~/VSCodeProjects/ds-fall-2025-wed/.venv/lib/python3.10/site-packages/pandas/core/series.py:6560\u001b[0m, in \u001b[0;36mSeries.mean\u001b[0;34m(self, axis, skipna, numeric_only, **kwargs)\u001b[0m\n\u001b[1;32m   6552\u001b[0m \u001b[38;5;129m@doc\u001b[39m(make_doc(\u001b[38;5;124m\"\u001b[39m\u001b[38;5;124mmean\u001b[39m\u001b[38;5;124m\"\u001b[39m, ndim\u001b[38;5;241m=\u001b[39m\u001b[38;5;241m1\u001b[39m))\n\u001b[1;32m   6553\u001b[0m \u001b[38;5;28;01mdef\u001b[39;00m\u001b[38;5;250m \u001b[39m\u001b[38;5;21mmean\u001b[39m(\n\u001b[1;32m   6554\u001b[0m     \u001b[38;5;28mself\u001b[39m,\n\u001b[0;32m   (...)\u001b[0m\n\u001b[1;32m   6558\u001b[0m     \u001b[38;5;241m*\u001b[39m\u001b[38;5;241m*\u001b[39mkwargs,\n\u001b[1;32m   6559\u001b[0m ):\n\u001b[0;32m-> 6560\u001b[0m     \u001b[38;5;28;01mreturn\u001b[39;00m \u001b[43mNDFrame\u001b[49m\u001b[38;5;241;43m.\u001b[39;49m\u001b[43mmean\u001b[49m\u001b[43m(\u001b[49m\u001b[38;5;28;43mself\u001b[39;49m\u001b[43m,\u001b[49m\u001b[43m \u001b[49m\u001b[43maxis\u001b[49m\u001b[43m,\u001b[49m\u001b[43m \u001b[49m\u001b[43mskipna\u001b[49m\u001b[43m,\u001b[49m\u001b[43m \u001b[49m\u001b[43mnumeric_only\u001b[49m\u001b[43m,\u001b[49m\u001b[43m \u001b[49m\u001b[38;5;241;43m*\u001b[39;49m\u001b[38;5;241;43m*\u001b[39;49m\u001b[43mkwargs\u001b[49m\u001b[43m)\u001b[49m\n",
      "File \u001b[0;32m~/VSCodeProjects/ds-fall-2025-wed/.venv/lib/python3.10/site-packages/pandas/core/generic.py:12439\u001b[0m, in \u001b[0;36mNDFrame.mean\u001b[0;34m(self, axis, skipna, numeric_only, **kwargs)\u001b[0m\n\u001b[1;32m  12432\u001b[0m \u001b[38;5;28;01mdef\u001b[39;00m\u001b[38;5;250m \u001b[39m\u001b[38;5;21mmean\u001b[39m(\n\u001b[1;32m  12433\u001b[0m     \u001b[38;5;28mself\u001b[39m,\n\u001b[1;32m  12434\u001b[0m     axis: Axis \u001b[38;5;241m|\u001b[39m \u001b[38;5;28;01mNone\u001b[39;00m \u001b[38;5;241m=\u001b[39m \u001b[38;5;241m0\u001b[39m,\n\u001b[0;32m   (...)\u001b[0m\n\u001b[1;32m  12437\u001b[0m     \u001b[38;5;241m*\u001b[39m\u001b[38;5;241m*\u001b[39mkwargs,\n\u001b[1;32m  12438\u001b[0m ) \u001b[38;5;241m-\u001b[39m\u001b[38;5;241m>\u001b[39m Series \u001b[38;5;241m|\u001b[39m \u001b[38;5;28mfloat\u001b[39m:\n\u001b[0;32m> 12439\u001b[0m     \u001b[38;5;28;01mreturn\u001b[39;00m \u001b[38;5;28;43mself\u001b[39;49m\u001b[38;5;241;43m.\u001b[39;49m\u001b[43m_stat_function\u001b[49m\u001b[43m(\u001b[49m\n\u001b[1;32m  12440\u001b[0m \u001b[43m        \u001b[49m\u001b[38;5;124;43m\"\u001b[39;49m\u001b[38;5;124;43mmean\u001b[39;49m\u001b[38;5;124;43m\"\u001b[39;49m\u001b[43m,\u001b[49m\u001b[43m \u001b[49m\u001b[43mnanops\u001b[49m\u001b[38;5;241;43m.\u001b[39;49m\u001b[43mnanmean\u001b[49m\u001b[43m,\u001b[49m\u001b[43m \u001b[49m\u001b[43maxis\u001b[49m\u001b[43m,\u001b[49m\u001b[43m \u001b[49m\u001b[43mskipna\u001b[49m\u001b[43m,\u001b[49m\u001b[43m \u001b[49m\u001b[43mnumeric_only\u001b[49m\u001b[43m,\u001b[49m\u001b[43m \u001b[49m\u001b[38;5;241;43m*\u001b[39;49m\u001b[38;5;241;43m*\u001b[39;49m\u001b[43mkwargs\u001b[49m\n\u001b[1;32m  12441\u001b[0m \u001b[43m    \u001b[49m\u001b[43m)\u001b[49m\n",
      "File \u001b[0;32m~/VSCodeProjects/ds-fall-2025-wed/.venv/lib/python3.10/site-packages/pandas/core/generic.py:12396\u001b[0m, in \u001b[0;36mNDFrame._stat_function\u001b[0;34m(self, name, func, axis, skipna, numeric_only, **kwargs)\u001b[0m\n\u001b[1;32m  12394\u001b[0m validate_bool_kwarg(skipna, \u001b[38;5;124m\"\u001b[39m\u001b[38;5;124mskipna\u001b[39m\u001b[38;5;124m\"\u001b[39m, none_allowed\u001b[38;5;241m=\u001b[39m\u001b[38;5;28;01mFalse\u001b[39;00m)\n\u001b[0;32m> 12396\u001b[0m \u001b[38;5;28;01mreturn\u001b[39;00m \u001b[38;5;28;43mself\u001b[39;49m\u001b[38;5;241;43m.\u001b[39;49m\u001b[43m_reduce\u001b[49m\u001b[43m(\u001b[49m\n\u001b[1;32m  12397\u001b[0m \u001b[43m    \u001b[49m\u001b[43mfunc\u001b[49m\u001b[43m,\u001b[49m\u001b[43m \u001b[49m\u001b[43mname\u001b[49m\u001b[38;5;241;43m=\u001b[39;49m\u001b[43mname\u001b[49m\u001b[43m,\u001b[49m\u001b[43m \u001b[49m\u001b[43maxis\u001b[49m\u001b[38;5;241;43m=\u001b[39;49m\u001b[43maxis\u001b[49m\u001b[43m,\u001b[49m\u001b[43m \u001b[49m\u001b[43mskipna\u001b[49m\u001b[38;5;241;43m=\u001b[39;49m\u001b[43mskipna\u001b[49m\u001b[43m,\u001b[49m\u001b[43m \u001b[49m\u001b[43mnumeric_only\u001b[49m\u001b[38;5;241;43m=\u001b[39;49m\u001b[43mnumeric_only\u001b[49m\n\u001b[1;32m  12398\u001b[0m \u001b[43m\u001b[49m\u001b[43m)\u001b[49m\n",
      "File \u001b[0;32m~/VSCodeProjects/ds-fall-2025-wed/.venv/lib/python3.10/site-packages/pandas/core/series.py:6468\u001b[0m, in \u001b[0;36mSeries._reduce\u001b[0;34m(self, op, name, axis, skipna, numeric_only, filter_type, **kwds)\u001b[0m\n\u001b[1;32m   6464\u001b[0m     \u001b[38;5;28;01mraise\u001b[39;00m \u001b[38;5;167;01mTypeError\u001b[39;00m(\n\u001b[1;32m   6465\u001b[0m         \u001b[38;5;124mf\u001b[39m\u001b[38;5;124m\"\u001b[39m\u001b[38;5;124mSeries.\u001b[39m\u001b[38;5;132;01m{\u001b[39;00mname\u001b[38;5;132;01m}\u001b[39;00m\u001b[38;5;124m does not allow \u001b[39m\u001b[38;5;132;01m{\u001b[39;00mkwd_name\u001b[38;5;132;01m}\u001b[39;00m\u001b[38;5;124m=\u001b[39m\u001b[38;5;132;01m{\u001b[39;00mnumeric_only\u001b[38;5;132;01m}\u001b[39;00m\u001b[38;5;124m \u001b[39m\u001b[38;5;124m\"\u001b[39m\n\u001b[1;32m   6466\u001b[0m         \u001b[38;5;124m\"\u001b[39m\u001b[38;5;124mwith non-numeric dtypes.\u001b[39m\u001b[38;5;124m\"\u001b[39m\n\u001b[1;32m   6467\u001b[0m     )\n\u001b[0;32m-> 6468\u001b[0m \u001b[38;5;28;01mreturn\u001b[39;00m \u001b[43mop\u001b[49m\u001b[43m(\u001b[49m\u001b[43mdelegate\u001b[49m\u001b[43m,\u001b[49m\u001b[43m \u001b[49m\u001b[43mskipna\u001b[49m\u001b[38;5;241;43m=\u001b[39;49m\u001b[43mskipna\u001b[49m\u001b[43m,\u001b[49m\u001b[43m \u001b[49m\u001b[38;5;241;43m*\u001b[39;49m\u001b[38;5;241;43m*\u001b[39;49m\u001b[43mkwds\u001b[49m\u001b[43m)\u001b[49m\n",
      "File \u001b[0;32m~/VSCodeProjects/ds-fall-2025-wed/.venv/lib/python3.10/site-packages/pandas/core/nanops.py:147\u001b[0m, in \u001b[0;36mbottleneck_switch.__call__.<locals>.f\u001b[0;34m(values, axis, skipna, **kwds)\u001b[0m\n\u001b[1;32m    146\u001b[0m \u001b[38;5;28;01melse\u001b[39;00m:\n\u001b[0;32m--> 147\u001b[0m     result \u001b[38;5;241m=\u001b[39m \u001b[43malt\u001b[49m\u001b[43m(\u001b[49m\u001b[43mvalues\u001b[49m\u001b[43m,\u001b[49m\u001b[43m \u001b[49m\u001b[43maxis\u001b[49m\u001b[38;5;241;43m=\u001b[39;49m\u001b[43maxis\u001b[49m\u001b[43m,\u001b[49m\u001b[43m \u001b[49m\u001b[43mskipna\u001b[49m\u001b[38;5;241;43m=\u001b[39;49m\u001b[43mskipna\u001b[49m\u001b[43m,\u001b[49m\u001b[43m \u001b[49m\u001b[38;5;241;43m*\u001b[39;49m\u001b[38;5;241;43m*\u001b[39;49m\u001b[43mkwds\u001b[49m\u001b[43m)\u001b[49m\n\u001b[1;32m    149\u001b[0m \u001b[38;5;28;01mreturn\u001b[39;00m result\n",
      "File \u001b[0;32m~/VSCodeProjects/ds-fall-2025-wed/.venv/lib/python3.10/site-packages/pandas/core/nanops.py:404\u001b[0m, in \u001b[0;36m_datetimelike_compat.<locals>.new_func\u001b[0;34m(values, axis, skipna, mask, **kwargs)\u001b[0m\n\u001b[1;32m    402\u001b[0m     mask \u001b[38;5;241m=\u001b[39m isna(values)\n\u001b[0;32m--> 404\u001b[0m result \u001b[38;5;241m=\u001b[39m \u001b[43mfunc\u001b[49m\u001b[43m(\u001b[49m\u001b[43mvalues\u001b[49m\u001b[43m,\u001b[49m\u001b[43m \u001b[49m\u001b[43maxis\u001b[49m\u001b[38;5;241;43m=\u001b[39;49m\u001b[43maxis\u001b[49m\u001b[43m,\u001b[49m\u001b[43m \u001b[49m\u001b[43mskipna\u001b[49m\u001b[38;5;241;43m=\u001b[39;49m\u001b[43mskipna\u001b[49m\u001b[43m,\u001b[49m\u001b[43m \u001b[49m\u001b[43mmask\u001b[49m\u001b[38;5;241;43m=\u001b[39;49m\u001b[43mmask\u001b[49m\u001b[43m,\u001b[49m\u001b[43m \u001b[49m\u001b[38;5;241;43m*\u001b[39;49m\u001b[38;5;241;43m*\u001b[39;49m\u001b[43mkwargs\u001b[49m\u001b[43m)\u001b[49m\n\u001b[1;32m    406\u001b[0m \u001b[38;5;28;01mif\u001b[39;00m datetimelike:\n",
      "File \u001b[0;32m~/VSCodeProjects/ds-fall-2025-wed/.venv/lib/python3.10/site-packages/pandas/core/nanops.py:720\u001b[0m, in \u001b[0;36mnanmean\u001b[0;34m(values, axis, skipna, mask)\u001b[0m\n\u001b[1;32m    719\u001b[0m the_sum \u001b[38;5;241m=\u001b[39m values\u001b[38;5;241m.\u001b[39msum(axis, dtype\u001b[38;5;241m=\u001b[39mdtype_sum)\n\u001b[0;32m--> 720\u001b[0m the_sum \u001b[38;5;241m=\u001b[39m \u001b[43m_ensure_numeric\u001b[49m\u001b[43m(\u001b[49m\u001b[43mthe_sum\u001b[49m\u001b[43m)\u001b[49m\n\u001b[1;32m    722\u001b[0m \u001b[38;5;28;01mif\u001b[39;00m axis \u001b[38;5;129;01mis\u001b[39;00m \u001b[38;5;129;01mnot\u001b[39;00m \u001b[38;5;28;01mNone\u001b[39;00m \u001b[38;5;129;01mand\u001b[39;00m \u001b[38;5;28mgetattr\u001b[39m(the_sum, \u001b[38;5;124m\"\u001b[39m\u001b[38;5;124mndim\u001b[39m\u001b[38;5;124m\"\u001b[39m, \u001b[38;5;28;01mFalse\u001b[39;00m):\n",
      "File \u001b[0;32m~/VSCodeProjects/ds-fall-2025-wed/.venv/lib/python3.10/site-packages/pandas/core/nanops.py:1701\u001b[0m, in \u001b[0;36m_ensure_numeric\u001b[0;34m(x)\u001b[0m\n\u001b[1;32m   1699\u001b[0m \u001b[38;5;28;01mif\u001b[39;00m \u001b[38;5;28misinstance\u001b[39m(x, \u001b[38;5;28mstr\u001b[39m):\n\u001b[1;32m   1700\u001b[0m     \u001b[38;5;66;03m# GH#44008, GH#36703 avoid casting e.g. strings to numeric\u001b[39;00m\n\u001b[0;32m-> 1701\u001b[0m     \u001b[38;5;28;01mraise\u001b[39;00m \u001b[38;5;167;01mTypeError\u001b[39;00m(\u001b[38;5;124mf\u001b[39m\u001b[38;5;124m\"\u001b[39m\u001b[38;5;124mCould not convert string \u001b[39m\u001b[38;5;124m'\u001b[39m\u001b[38;5;132;01m{\u001b[39;00mx\u001b[38;5;132;01m}\u001b[39;00m\u001b[38;5;124m'\u001b[39m\u001b[38;5;124m to numeric\u001b[39m\u001b[38;5;124m\"\u001b[39m)\n\u001b[1;32m   1702\u001b[0m \u001b[38;5;28;01mtry\u001b[39;00m:\n",
      "\u001b[0;31mTypeError\u001b[0m: Could not convert string '88,00071,00037,79682,00075,000173,00052,00029,07852,00045,60028,00077,00030,00075,000114,00070,00072,00070,50052,00052,50029,12015,00074,55450,000105,00061,00085,000120,00078,000520008500050336125500550003100056000318008400012000095000350000101000228001050007765135000' to numeric",
      "\nThe above exception was the direct cause of the following exception:\n",
      "\u001b[0;31mTypeError\u001b[0m                                 Traceback (most recent call last)",
      "Cell \u001b[0;32mIn[93], line 4\u001b[0m\n\u001b[1;32m      1\u001b[0m \u001b[38;5;66;03m# Find the minimum, mean, and maximum salary in USD by U.S. state.\u001b[39;00m\n\u001b[1;32m      3\u001b[0m min_by_state \u001b[38;5;241m=\u001b[39m df_salary_tech\u001b[38;5;241m.\u001b[39mgroupby(\u001b[38;5;124m'\u001b[39m\u001b[38;5;124mstate\u001b[39m\u001b[38;5;124m'\u001b[39m)[\u001b[38;5;124m'\u001b[39m\u001b[38;5;124msalary\u001b[39m\u001b[38;5;124m'\u001b[39m]\u001b[38;5;241m.\u001b[39mmin()\n\u001b[0;32m----> 4\u001b[0m mean_by_state \u001b[38;5;241m=\u001b[39m \u001b[43mdf_salary_tech\u001b[49m\u001b[38;5;241;43m.\u001b[39;49m\u001b[43mgroupby\u001b[49m\u001b[43m(\u001b[49m\u001b[38;5;124;43m'\u001b[39;49m\u001b[38;5;124;43mstate\u001b[39;49m\u001b[38;5;124;43m'\u001b[39;49m\u001b[43m)\u001b[49m\u001b[43m[\u001b[49m\u001b[38;5;124;43m'\u001b[39;49m\u001b[38;5;124;43msalary\u001b[39;49m\u001b[38;5;124;43m'\u001b[39;49m\u001b[43m]\u001b[49m\u001b[38;5;241;43m.\u001b[39;49m\u001b[43mmean\u001b[49m\u001b[43m(\u001b[49m\u001b[43m)\u001b[49m\n\u001b[1;32m      5\u001b[0m max_by_state \u001b[38;5;241m=\u001b[39m df_salary_tech\u001b[38;5;241m.\u001b[39mgroupby(\u001b[38;5;124m'\u001b[39m\u001b[38;5;124mstate\u001b[39m\u001b[38;5;124m'\u001b[39m)[\u001b[38;5;124m'\u001b[39m\u001b[38;5;124msalary\u001b[39m\u001b[38;5;124m'\u001b[39m]\u001b[38;5;241m.\u001b[39mmax()\n",
      "File \u001b[0;32m~/VSCodeProjects/ds-fall-2025-wed/.venv/lib/python3.10/site-packages/pandas/core/groupby/groupby.py:2458\u001b[0m, in \u001b[0;36mGroupBy.mean\u001b[0;34m(self, numeric_only, engine, engine_kwargs)\u001b[0m\n\u001b[1;32m   2451\u001b[0m     \u001b[38;5;28;01mreturn\u001b[39;00m \u001b[38;5;28mself\u001b[39m\u001b[38;5;241m.\u001b[39m_numba_agg_general(\n\u001b[1;32m   2452\u001b[0m         grouped_mean,\n\u001b[1;32m   2453\u001b[0m         executor\u001b[38;5;241m.\u001b[39mfloat_dtype_mapping,\n\u001b[1;32m   2454\u001b[0m         engine_kwargs,\n\u001b[1;32m   2455\u001b[0m         min_periods\u001b[38;5;241m=\u001b[39m\u001b[38;5;241m0\u001b[39m,\n\u001b[1;32m   2456\u001b[0m     )\n\u001b[1;32m   2457\u001b[0m \u001b[38;5;28;01melse\u001b[39;00m:\n\u001b[0;32m-> 2458\u001b[0m     result \u001b[38;5;241m=\u001b[39m \u001b[38;5;28;43mself\u001b[39;49m\u001b[38;5;241;43m.\u001b[39;49m\u001b[43m_cython_agg_general\u001b[49m\u001b[43m(\u001b[49m\n\u001b[1;32m   2459\u001b[0m \u001b[43m        \u001b[49m\u001b[38;5;124;43m\"\u001b[39;49m\u001b[38;5;124;43mmean\u001b[39;49m\u001b[38;5;124;43m\"\u001b[39;49m\u001b[43m,\u001b[49m\n\u001b[1;32m   2460\u001b[0m \u001b[43m        \u001b[49m\u001b[43malt\u001b[49m\u001b[38;5;241;43m=\u001b[39;49m\u001b[38;5;28;43;01mlambda\u001b[39;49;00m\u001b[43m \u001b[49m\u001b[43mx\u001b[49m\u001b[43m:\u001b[49m\u001b[43m \u001b[49m\u001b[43mSeries\u001b[49m\u001b[43m(\u001b[49m\u001b[43mx\u001b[49m\u001b[43m,\u001b[49m\u001b[43m \u001b[49m\u001b[43mcopy\u001b[49m\u001b[38;5;241;43m=\u001b[39;49m\u001b[38;5;28;43;01mFalse\u001b[39;49;00m\u001b[43m)\u001b[49m\u001b[38;5;241;43m.\u001b[39;49m\u001b[43mmean\u001b[49m\u001b[43m(\u001b[49m\u001b[43mnumeric_only\u001b[49m\u001b[38;5;241;43m=\u001b[39;49m\u001b[43mnumeric_only\u001b[49m\u001b[43m)\u001b[49m\u001b[43m,\u001b[49m\n\u001b[1;32m   2461\u001b[0m \u001b[43m        \u001b[49m\u001b[43mnumeric_only\u001b[49m\u001b[38;5;241;43m=\u001b[39;49m\u001b[43mnumeric_only\u001b[49m\u001b[43m,\u001b[49m\n\u001b[1;32m   2462\u001b[0m \u001b[43m    \u001b[49m\u001b[43m)\u001b[49m\n\u001b[1;32m   2463\u001b[0m     \u001b[38;5;28;01mreturn\u001b[39;00m result\u001b[38;5;241m.\u001b[39m__finalize__(\u001b[38;5;28mself\u001b[39m\u001b[38;5;241m.\u001b[39mobj, method\u001b[38;5;241m=\u001b[39m\u001b[38;5;124m\"\u001b[39m\u001b[38;5;124mgroupby\u001b[39m\u001b[38;5;124m\"\u001b[39m)\n",
      "File \u001b[0;32m~/VSCodeProjects/ds-fall-2025-wed/.venv/lib/python3.10/site-packages/pandas/core/groupby/groupby.py:2004\u001b[0m, in \u001b[0;36mGroupBy._cython_agg_general\u001b[0;34m(self, how, alt, numeric_only, min_count, **kwargs)\u001b[0m\n\u001b[1;32m   2001\u001b[0m     result \u001b[38;5;241m=\u001b[39m \u001b[38;5;28mself\u001b[39m\u001b[38;5;241m.\u001b[39m_agg_py_fallback(how, values, ndim\u001b[38;5;241m=\u001b[39mdata\u001b[38;5;241m.\u001b[39mndim, alt\u001b[38;5;241m=\u001b[39malt)\n\u001b[1;32m   2002\u001b[0m     \u001b[38;5;28;01mreturn\u001b[39;00m result\n\u001b[0;32m-> 2004\u001b[0m new_mgr \u001b[38;5;241m=\u001b[39m \u001b[43mdata\u001b[49m\u001b[38;5;241;43m.\u001b[39;49m\u001b[43mgrouped_reduce\u001b[49m\u001b[43m(\u001b[49m\u001b[43marray_func\u001b[49m\u001b[43m)\u001b[49m\n\u001b[1;32m   2005\u001b[0m res \u001b[38;5;241m=\u001b[39m \u001b[38;5;28mself\u001b[39m\u001b[38;5;241m.\u001b[39m_wrap_agged_manager(new_mgr)\n\u001b[1;32m   2006\u001b[0m \u001b[38;5;28;01mif\u001b[39;00m how \u001b[38;5;129;01min\u001b[39;00m [\u001b[38;5;124m\"\u001b[39m\u001b[38;5;124midxmin\u001b[39m\u001b[38;5;124m\"\u001b[39m, \u001b[38;5;124m\"\u001b[39m\u001b[38;5;124midxmax\u001b[39m\u001b[38;5;124m\"\u001b[39m]:\n",
      "File \u001b[0;32m~/VSCodeProjects/ds-fall-2025-wed/.venv/lib/python3.10/site-packages/pandas/core/internals/base.py:367\u001b[0m, in \u001b[0;36mSingleDataManager.grouped_reduce\u001b[0;34m(self, func)\u001b[0m\n\u001b[1;32m    365\u001b[0m \u001b[38;5;28;01mdef\u001b[39;00m\u001b[38;5;250m \u001b[39m\u001b[38;5;21mgrouped_reduce\u001b[39m(\u001b[38;5;28mself\u001b[39m, func):\n\u001b[1;32m    366\u001b[0m     arr \u001b[38;5;241m=\u001b[39m \u001b[38;5;28mself\u001b[39m\u001b[38;5;241m.\u001b[39marray\n\u001b[0;32m--> 367\u001b[0m     res \u001b[38;5;241m=\u001b[39m \u001b[43mfunc\u001b[49m\u001b[43m(\u001b[49m\u001b[43marr\u001b[49m\u001b[43m)\u001b[49m\n\u001b[1;32m    368\u001b[0m     index \u001b[38;5;241m=\u001b[39m default_index(\u001b[38;5;28mlen\u001b[39m(res))\n\u001b[1;32m    370\u001b[0m     mgr \u001b[38;5;241m=\u001b[39m \u001b[38;5;28mtype\u001b[39m(\u001b[38;5;28mself\u001b[39m)\u001b[38;5;241m.\u001b[39mfrom_array(res, index)\n",
      "File \u001b[0;32m~/VSCodeProjects/ds-fall-2025-wed/.venv/lib/python3.10/site-packages/pandas/core/groupby/groupby.py:2001\u001b[0m, in \u001b[0;36mGroupBy._cython_agg_general.<locals>.array_func\u001b[0;34m(values)\u001b[0m\n\u001b[1;32m   1998\u001b[0m     \u001b[38;5;28;01mreturn\u001b[39;00m result\n\u001b[1;32m   2000\u001b[0m \u001b[38;5;28;01massert\u001b[39;00m alt \u001b[38;5;129;01mis\u001b[39;00m \u001b[38;5;129;01mnot\u001b[39;00m \u001b[38;5;28;01mNone\u001b[39;00m\n\u001b[0;32m-> 2001\u001b[0m result \u001b[38;5;241m=\u001b[39m \u001b[38;5;28;43mself\u001b[39;49m\u001b[38;5;241;43m.\u001b[39;49m\u001b[43m_agg_py_fallback\u001b[49m\u001b[43m(\u001b[49m\u001b[43mhow\u001b[49m\u001b[43m,\u001b[49m\u001b[43m \u001b[49m\u001b[43mvalues\u001b[49m\u001b[43m,\u001b[49m\u001b[43m \u001b[49m\u001b[43mndim\u001b[49m\u001b[38;5;241;43m=\u001b[39;49m\u001b[43mdata\u001b[49m\u001b[38;5;241;43m.\u001b[39;49m\u001b[43mndim\u001b[49m\u001b[43m,\u001b[49m\u001b[43m \u001b[49m\u001b[43malt\u001b[49m\u001b[38;5;241;43m=\u001b[39;49m\u001b[43malt\u001b[49m\u001b[43m)\u001b[49m\n\u001b[1;32m   2002\u001b[0m \u001b[38;5;28;01mreturn\u001b[39;00m result\n",
      "File \u001b[0;32m~/VSCodeProjects/ds-fall-2025-wed/.venv/lib/python3.10/site-packages/pandas/core/groupby/groupby.py:1947\u001b[0m, in \u001b[0;36mGroupBy._agg_py_fallback\u001b[0;34m(self, how, values, ndim, alt)\u001b[0m\n\u001b[1;32m   1945\u001b[0m     msg \u001b[38;5;241m=\u001b[39m \u001b[38;5;124mf\u001b[39m\u001b[38;5;124m\"\u001b[39m\u001b[38;5;124magg function failed [how->\u001b[39m\u001b[38;5;132;01m{\u001b[39;00mhow\u001b[38;5;132;01m}\u001b[39;00m\u001b[38;5;124m,dtype->\u001b[39m\u001b[38;5;132;01m{\u001b[39;00mser\u001b[38;5;241m.\u001b[39mdtype\u001b[38;5;132;01m}\u001b[39;00m\u001b[38;5;124m]\u001b[39m\u001b[38;5;124m\"\u001b[39m\n\u001b[1;32m   1946\u001b[0m     \u001b[38;5;66;03m# preserve the kind of exception that raised\u001b[39;00m\n\u001b[0;32m-> 1947\u001b[0m     \u001b[38;5;28;01mraise\u001b[39;00m \u001b[38;5;28mtype\u001b[39m(err)(msg) \u001b[38;5;28;01mfrom\u001b[39;00m\u001b[38;5;250m \u001b[39m\u001b[38;5;21;01merr\u001b[39;00m\n\u001b[1;32m   1949\u001b[0m dtype \u001b[38;5;241m=\u001b[39m ser\u001b[38;5;241m.\u001b[39mdtype\n\u001b[1;32m   1950\u001b[0m \u001b[38;5;28;01mif\u001b[39;00m dtype \u001b[38;5;241m==\u001b[39m \u001b[38;5;28mobject\u001b[39m:\n",
      "\u001b[0;31mTypeError\u001b[0m: agg function failed [how->mean,dtype->object]"
     ]
    }
   ],
   "source": [
    "# Find the minimum, mean, and maximum salary in USD by U.S. state.\n",
    "\n",
    "min_by_state = df_salary_tech.groupby('state')['salary'].min()\n",
    "mean_by_state = df_salary_tech.groupby('state')['salary'].mean()\n",
    "max_by_state = df_salary_tech.groupby('state')['salary'].max()"
   ]
  },
  {
   "cell_type": "markdown",
   "metadata": {},
   "source": [
    "Well, pooh! We forgot that `salary` isn’t numeric. Something wrong must be fixed."
   ]
  },
  {
   "cell_type": "code",
   "execution_count": 96,
   "metadata": {},
   "outputs": [],
   "source": [
    "# Fix it.\n",
    "\n",
    "df_salary_tech['salary'] = pd.to_numeric(df_salary_tech['salary'], errors='coerce')\n",
    "df_salary_tech = df_salary_tech[df_salary_tech['salary'].notnull()]"
   ]
  },
  {
   "cell_type": "markdown",
   "metadata": {},
   "source": [
    "Let’s try that again."
   ]
  },
  {
   "cell_type": "code",
   "execution_count": 101,
   "metadata": {},
   "outputs": [
    {
     "name": "stdout",
     "output_type": "stream",
     "text": [
      "state\n",
      "Alabama                              86887.470588\n",
      "Alabama, Oregon                      50000.000000\n",
      "Alaska                               68158.000000\n",
      "Arizona                              78716.527778\n",
      "Arkansas                             62167.111111\n",
      "California                          123286.101648\n",
      "California, Colorado                176000.000000\n",
      "California, Maryland                 81500.000000\n",
      "California, Oregon                  200000.000000\n",
      "Colorado                             94562.376623\n",
      "Connecticut                          95786.400000\n",
      "Delaware                            134025.000000\n",
      "District of Columbia                110711.883721\n",
      "District of Columbia, Virginia      109200.000000\n",
      "District of Columbia, Washington     35000.000000\n",
      "Florida                             131342.822581\n",
      "Georgia                              95357.774648\n",
      "Hawaii                               77820.000000\n",
      "Idaho                                80024.050000\n",
      "Illinois                             91018.844444\n",
      "Indiana                              69112.261905\n",
      "Iowa                                 72410.588235\n",
      "Kansas                               72284.277778\n",
      "Kentucky                             63164.181818\n",
      "Louisiana                            74331.250000\n",
      "Louisiana, Washington               117000.000000\n",
      "Maine                                73478.545455\n",
      "Maryland                             89184.972603\n",
      "Massachusetts                       100993.763547\n",
      "Michigan                             76434.710145\n",
      "Michigan, Texas, Washington         340000.000000\n",
      "Minnesota                            87427.100000\n",
      "Mississippi                          63250.000000\n",
      "Missouri                             73206.520000\n",
      "Montana                              67949.428571\n",
      "Nebraska                             81883.333333\n",
      "Nevada                               82416.666667\n",
      "New Hampshire                        68281.153846\n",
      "New Jersey                           92043.953488\n",
      "New Jersey, New York                137500.000000\n",
      "New Mexico                           68855.555556\n",
      "New York                            110966.773585\n",
      "North Carolina                       77928.089888\n",
      "North Dakota                         48750.000000\n",
      "Ohio                                 81686.706667\n",
      "Oklahoma                             74887.000000\n",
      "Oregon                               98700.409091\n",
      "Pennsylvania                         81695.793103\n",
      "Rhode Island                         65409.000000\n",
      "South Carolina                       48948.333333\n",
      "South Dakota                         46750.000000\n",
      "Tennessee                            78296.620690\n",
      "Texas                                84961.860606\n",
      "Utah                                 86917.750000\n",
      "Vermont                              79243.500000\n",
      "Virginia                             97474.939394\n",
      "Washington                          107677.965986\n",
      "West Virginia                        95500.000000\n",
      "Wisconsin                            94330.823529\n",
      "Wyoming                              54606.000000\n",
      "Name: salary, dtype: float64\n"
     ]
    }
   ],
   "source": [
    "# Try it again. Yeah!\n",
    "\n",
    "min_by_state = df_salary_tech.groupby('state')['salary'].min()\n",
    "mean_by_state = df_salary_tech.groupby('state')['salary'].mean()\n",
    "max_by_state = df_salary_tech.groupby('state')['salary'].max()\n",
    "print(mean_by_state)"
   ]
  },
  {
   "cell_type": "markdown",
   "metadata": {},
   "source": [
    "That did the trick! Now let’s narrow this to data 2021 and 2022 just because (lel). *(Hint: that timestamp column may not be a temporal type right now.)*"
   ]
  },
  {
   "cell_type": "code",
   "execution_count": 104,
   "metadata": {},
   "outputs": [
    {
     "name": "stdout",
     "output_type": "stream",
     "text": [
      "state\n",
      "Alabama                              90962.400000\n",
      "Alabama, Oregon                      50000.000000\n",
      "Alaska                               68158.000000\n",
      "Arizona                              78716.527778\n",
      "Arkansas                             69937.500000\n",
      "California                          123432.895317\n",
      "California, Colorado                176000.000000\n",
      "California, Maryland                 81500.000000\n",
      "California, Oregon                  200000.000000\n",
      "Colorado                             94562.376623\n",
      "Connecticut                          95786.400000\n",
      "Delaware                            134025.000000\n",
      "District of Columbia                111186.195312\n",
      "District of Columbia, Virginia      109200.000000\n",
      "District of Columbia, Washington     35000.000000\n",
      "Florida                              90873.032787\n",
      "Georgia                              95162.885714\n",
      "Hawaii                               77820.000000\n",
      "Idaho                                80024.050000\n",
      "Illinois                             90643.187970\n",
      "Indiana                              69112.261905\n",
      "Iowa                                 72410.588235\n",
      "Kansas                               72284.277778\n",
      "Kentucky                             63164.181818\n",
      "Louisiana                            74331.250000\n",
      "Louisiana, Washington               117000.000000\n",
      "Maine                                73478.545455\n",
      "Maryland                             89576.430556\n",
      "Massachusetts                       100780.861386\n",
      "Michigan                             76434.710145\n",
      "Michigan, Texas, Washington         340000.000000\n",
      "Minnesota                            87534.739130\n",
      "Mississippi                          63250.000000\n",
      "Missouri                             71945.428571\n",
      "Montana                              67949.428571\n",
      "Nebraska                             81883.333333\n",
      "Nevada                               82416.666667\n",
      "New Hampshire                        68281.153846\n",
      "New Jersey                           92043.953488\n",
      "New Jersey, New York                137500.000000\n",
      "New Mexico                           68855.555556\n",
      "New York                            111561.197719\n",
      "North Carolina                       77506.818182\n",
      "North Dakota                         48750.000000\n",
      "Ohio                                 81686.706667\n",
      "Oklahoma                             74887.000000\n",
      "Oregon                               98700.409091\n",
      "Pennsylvania                         81695.793103\n",
      "Rhode Island                         65409.000000\n",
      "South Carolina                       50066.875000\n",
      "South Dakota                         46750.000000\n",
      "Tennessee                            78296.620690\n",
      "Texas                                84961.860606\n",
      "Utah                                 87322.869565\n",
      "Vermont                              79243.500000\n",
      "Virginia                             97474.939394\n",
      "Washington                          107722.678082\n",
      "West Virginia                        95500.000000\n",
      "Wisconsin                            94330.823529\n",
      "Wyoming                              54606.000000\n",
      "Name: salary, dtype: float64\n"
     ]
    }
   ],
   "source": [
    "# Filter the data to within 2021, 2022, or 2023, saving the DataFrame to a new variable, and generate the summary again.\n",
    "\n",
    "df_salary_tech['timestamp'] = pd.to_datetime(df_salary_tech['timestamp'], errors='coerce')\n",
    "df_salary_tech = df_salary_tech[\n",
    "    df_salary_tech['timestamp'].dt.year.isin([2021, 2022, 2023])\n",
    "]\n",
    "min_by_state_recent = df_salary_tech.groupby('state')['salary'].min()\n",
    "mean_by_state_recent = df_salary_tech.groupby('state')['salary'].mean()\n",
    "max_by_state_recent = df_salary_tech.groupby('state')['salary'].max()\n",
    "print(mean_by_state_recent)"
   ]
  },
  {
   "cell_type": "markdown",
   "metadata": {},
   "source": [
    "## Bonus\n",
    "\n",
    "Clearly, we do not have enough data to produce useful figures for the level of specificity you’ve now reached. What do you notice about Delaware and West Virginia?\n",
    "\n",
    "Let’s back out a bit and return to `df_salary` (which was the loaded data with renamed columns but *sans* filtering)."
   ]
  },
  {
   "cell_type": "markdown",
   "metadata": {},
   "source": [
    "### Bonus #0\n",
    "\n",
    "Apply the same steps as before to `df_salary`, but do not filter for any specific industry. Do perform the other data cleaning stuff, and get to a point where you can generate the minimum, mean, and maximum by state."
   ]
  },
  {
   "cell_type": "code",
   "execution_count": 108,
   "metadata": {},
   "outputs": [
    {
     "name": "stdout",
     "output_type": "stream",
     "text": [
      "state\n",
      "Alabama                68424.250000\n",
      "Alabama, California    29120.000000\n",
      "Alabama, Oregon        50000.000000\n",
      "Alaska                 75699.142857\n",
      "Arizona                86190.060241\n",
      "                           ...     \n",
      "Virginia               96247.442922\n",
      "Washington             98022.110727\n",
      "West Virginia          52754.375000\n",
      "Wisconsin              83000.628788\n",
      "Wyoming                59906.333333\n",
      "Name: salary, Length: 81, dtype: float64\n"
     ]
    }
   ],
   "source": [
    "us_list = df_salary['country'].value_counts().head(5).index.tolist()\n",
    "us_list = [x.lower() for x in us_list]\n",
    "us_list = [x.replace('.', '') for x in us_list]\n",
    "us_list.append('united states of america')\n",
    "def normalize_country(country):\n",
    "    return str(country).lower().replace('.', '').replace(' ', '')\n",
    "df_salary['country'] = df_salary['country'].apply(\n",
    "    lambda x: 'US' if normalize_country(x) in us_list else x\n",
    ")\n",
    "df_salary = df_salary[df_salary['currency'] == 'USD']\n",
    "df_salary['salary'] = pd.to_numeric(df_salary['salary'], errors='coerce')\n",
    "df_salary = df_salary[df_salary['salary'].notnull()]\n",
    "min_by_state = df_salary.groupby('state')['salary'].min()\n",
    "mean_by_state = df_salary.groupby('state')['salary'].mean()\n",
    "max_by_state = df_salary.groupby('state')['salary'].max()\n",
    "print(mean_by_state)"
   ]
  },
  {
   "cell_type": "markdown",
   "metadata": {},
   "source": [
    "### Bonus #1\n",
    "\n",
    "This time, format the table output nicely (*$12,345.00*) without modifying the values in the `DataFrame`. That is, `df_salary` should be identical before versus after running your code.\n",
    "\n",
    "(*Hint: if you run into an error about `jinja2` perhaps you need to `pip install` something.*)"
   ]
  },
  {
   "cell_type": "code",
   "execution_count": null,
   "metadata": {},
   "outputs": [],
   "source": []
  },
  {
   "cell_type": "markdown",
   "metadata": {},
   "source": [
    "### Bonus #2\n",
    "\n",
    "Filter out the non-single-states (e.g., `'California, Colorado'`) in the most elegant way possible (i.e., *not* by blacklisting all the bad values)."
   ]
  },
  {
   "cell_type": "code",
   "execution_count": null,
   "metadata": {},
   "outputs": [],
   "source": []
  },
  {
   "cell_type": "markdown",
   "metadata": {},
   "source": [
    "### Bonus #3\n",
    "\n",
    "Show the quantiles instead of just minimum, mean, and maximum―say 0%, 5%, 25%, 50%, 75%, 95%, and 100%. Outliers may be deceiving.\n",
    "\n",
    "Sort by whatever interests you―like say the *50th* percentile.\n",
    "\n",
    "And throw in a count by state too. It would be interesting to know how many data points contribute to the figures for each state. (*Hint: your nice formatting from Bonus #1 might not work this time around.* 😜)"
   ]
  },
  {
   "cell_type": "code",
   "execution_count": null,
   "metadata": {},
   "outputs": [],
   "source": []
  }
 ],
 "metadata": {
  "kernelspec": {
   "display_name": ".venv",
   "language": "python",
   "name": "python3"
  },
  "language_info": {
   "codemirror_mode": {
    "name": "ipython",
    "version": 3
   },
   "file_extension": ".py",
   "mimetype": "text/x-python",
   "name": "python",
   "nbconvert_exporter": "python",
   "pygments_lexer": "ipython3",
   "version": "3.10.9"
  }
 },
 "nbformat": 4,
 "nbformat_minor": 2
}
