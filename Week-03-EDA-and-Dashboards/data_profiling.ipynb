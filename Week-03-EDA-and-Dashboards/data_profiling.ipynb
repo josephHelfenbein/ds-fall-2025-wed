{
 "cells": [
  {
   "cell_type": "code",
   "execution_count": null,
   "id": "9e69d614",
   "metadata": {},
   "outputs": [],
   "source": [
    "! pip install ydata-profiling"
   ]
  },
  {
   "cell_type": "code",
   "execution_count": null,
   "id": "2847c3fe",
   "metadata": {},
   "outputs": [],
   "source": [
    "import pandas as pd\n",
    "from ydata_profiling import ProfileReport\n",
    "\n",
    "df = pd.read_csv('data/penguins.csv')\n",
    "df.head()\n",
    "\n",
    "\n",
    "profile = ProfileReport(df, explorative=True)\n",
    "profile.to_file(\"report.html\")"
   ]
  },
  {
   "cell_type": "code",
   "execution_count": null,
   "id": "c5756236",
   "metadata": {},
   "outputs": [],
   "source": [
    "! python3 -m http.server 8000"
   ]
  }
 ],
 "metadata": {
  "kernelspec": {
   "display_name": "Python 3",
   "language": "python",
   "name": "python3"
  },
  "language_info": {
   "name": "python",
   "version": "3.12.1"
  }
 },
 "nbformat": 4,
 "nbformat_minor": 5
}
